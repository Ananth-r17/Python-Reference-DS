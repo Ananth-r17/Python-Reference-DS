{
 "cells": [
  {
   "cell_type": "markdown",
   "metadata": {},
   "source": [
    "# Numpy"
   ]
  },
  {
   "cell_type": "code",
   "execution_count": 52,
   "metadata": {},
   "outputs": [],
   "source": [
    "import numpy as np"
   ]
  },
  {
   "cell_type": "markdown",
   "metadata": {},
   "source": [
    "## Attributes of Numpy Arrays"
   ]
  },
  {
   "cell_type": "code",
   "execution_count": 3,
   "metadata": {},
   "outputs": [],
   "source": [
    "a = np.array([1,2,3,4])\n",
    "b = np.array([[1,2,3,4], [5,6,7,8]])"
   ]
  },
  {
   "cell_type": "markdown",
   "metadata": {},
   "source": [
    "#### Shape"
   ]
  },
  {
   "cell_type": "code",
   "execution_count": 4,
   "metadata": {},
   "outputs": [
    {
     "name": "stdout",
     "output_type": "stream",
     "text": [
      "(4,)\n",
      "(2, 4)\n"
     ]
    }
   ],
   "source": [
    "print(a.shape)\n",
    "print(b.shape) #Shape of Dimention"
   ]
  },
  {
   "cell_type": "markdown",
   "metadata": {},
   "source": [
    "#### Dimensions"
   ]
  },
  {
   "cell_type": "code",
   "execution_count": 17,
   "metadata": {},
   "outputs": [
    {
     "name": "stdout",
     "output_type": "stream",
     "text": [
      "1\n",
      "2\n"
     ]
    }
   ],
   "source": [
    "print(a.ndim)\n",
    "print(b.ndim) #Total Dimentions"
   ]
  },
  {
   "cell_type": "markdown",
   "metadata": {},
   "source": [
    "#### Size"
   ]
  },
  {
   "cell_type": "code",
   "execution_count": 6,
   "metadata": {},
   "outputs": [
    {
     "name": "stdout",
     "output_type": "stream",
     "text": [
      "4\n",
      "8\n"
     ]
    }
   ],
   "source": [
    "print(a.size) #Total Items in Array\n",
    "print(b.size)"
   ]
  },
  {
   "cell_type": "markdown",
   "metadata": {},
   "source": [
    "#### Datatype"
   ]
  },
  {
   "cell_type": "code",
   "execution_count": 7,
   "metadata": {},
   "outputs": [
    {
     "name": "stdout",
     "output_type": "stream",
     "text": [
      "int32\n",
      "int32\n"
     ]
    }
   ],
   "source": [
    "print(a.dtype)\n",
    "print(b.dtype)"
   ]
  },
  {
   "cell_type": "markdown",
   "metadata": {},
   "source": [
    "#### ItemSize"
   ]
  },
  {
   "cell_type": "code",
   "execution_count": 11,
   "metadata": {},
   "outputs": [
    {
     "name": "stdout",
     "output_type": "stream",
     "text": [
      "4\n",
      "4\n"
     ]
    }
   ],
   "source": [
    "print(a.itemsize)\n",
    "print(b.itemsize) # No of Bytes in each element"
   ]
  },
  {
   "cell_type": "code",
   "execution_count": 16,
   "metadata": {},
   "outputs": [
    {
     "name": "stdout",
     "output_type": "stream",
     "text": [
      "1\n",
      "2\n"
     ]
    }
   ],
   "source": [
    "import numpy as np\n",
    "# Code starts here\n",
    "\n",
    "# initialize NumPy array\n",
    "array = np.arange(1,11)\n",
    "\n",
    "# check dimensions\n",
    "dim = array.ndim\n",
    "\n",
    "# reshaped array\n",
    "reshaped = array.reshape(5,2)\n",
    "# check shape\n",
    "new_dim = reshaped.ndim\n",
    "print(dim)\n",
    "print(new_dim)\n",
    "\n",
    "# Code ends here"
   ]
  },
  {
   "cell_type": "markdown",
   "metadata": {},
   "source": [
    "##  Numpy Arrays"
   ]
  },
  {
   "cell_type": "markdown",
   "metadata": {},
   "source": [
    "#### Arbitarary Array"
   ]
  },
  {
   "cell_type": "code",
   "execution_count": 24,
   "metadata": {},
   "outputs": [
    {
     "name": "stdout",
     "output_type": "stream",
     "text": [
      "[[ 8589934593]\n",
      " [17179869187]]\n"
     ]
    }
   ],
   "source": [
    "a = np.empty((2,1), dtype='int64') #Arbitrary array of specified shape\n",
    "print(a)"
   ]
  },
  {
   "cell_type": "markdown",
   "metadata": {},
   "source": [
    "#### Zero Array"
   ]
  },
  {
   "cell_type": "code",
   "execution_count": 27,
   "metadata": {},
   "outputs": [
    {
     "name": "stdout",
     "output_type": "stream",
     "text": [
      "[[0 0 0 0]\n",
      " [0 0 0 0]\n",
      " [0 0 0 0]\n",
      " [0 0 0 0]\n",
      " [0 0 0 0]]\n"
     ]
    }
   ],
   "source": [
    "b = np.zeros((5,4), dtype='int32')\n",
    "print(b)"
   ]
  },
  {
   "cell_type": "markdown",
   "metadata": {},
   "source": [
    "#### Ones Array"
   ]
  },
  {
   "cell_type": "code",
   "execution_count": 28,
   "metadata": {},
   "outputs": [
    {
     "name": "stdout",
     "output_type": "stream",
     "text": [
      "[[1 1 1]\n",
      " [1 1 1]]\n"
     ]
    }
   ],
   "source": [
    "c = np.ones((2,3), dtype='int32')\n",
    "print(c)"
   ]
  },
  {
   "cell_type": "markdown",
   "metadata": {},
   "source": [
    "#### Full of any constant Array"
   ]
  },
  {
   "cell_type": "code",
   "execution_count": 30,
   "metadata": {},
   "outputs": [
    {
     "name": "stdout",
     "output_type": "stream",
     "text": [
      "[[7 7]\n",
      " [7 7]]\n"
     ]
    }
   ],
   "source": [
    "d = np.full((2,2), 7)\n",
    "print(d)"
   ]
  },
  {
   "cell_type": "markdown",
   "metadata": {},
   "source": [
    "#### 2D Identity Array"
   ]
  },
  {
   "cell_type": "code",
   "execution_count": 32,
   "metadata": {},
   "outputs": [
    {
     "name": "stdout",
     "output_type": "stream",
     "text": [
      "[[1 0 0]\n",
      " [0 1 0]\n",
      " [0 0 1]]\n"
     ]
    }
   ],
   "source": [
    "e = np.eye(3, dtype='int32')\n",
    "print(e)"
   ]
  },
  {
   "cell_type": "code",
   "execution_count": 38,
   "metadata": {},
   "outputs": [
    {
     "name": "stdout",
     "output_type": "stream",
     "text": [
      "[[1. 0. 0. 0.]\n",
      " [0. 1. 0. 0.]\n",
      " [0. 0. 1. 0.]\n",
      " [0. 0. 0. 1.]]\n"
     ]
    }
   ],
   "source": [
    "array = np.eye(4, dtype='float32')\n",
    "print(array)"
   ]
  },
  {
   "cell_type": "markdown",
   "metadata": {},
   "source": [
    "## Arrays with existing Data"
   ]
  },
  {
   "cell_type": "markdown",
   "metadata": {},
   "source": [
    "#### Array to Array / List to Array"
   ]
  },
  {
   "cell_type": "code",
   "execution_count": 39,
   "metadata": {},
   "outputs": [
    {
     "name": "stdout",
     "output_type": "stream",
     "text": [
      "[[1. 0. 0. 0.]\n",
      " [0. 1. 0. 0.]\n",
      " [0. 0. 1. 0.]\n",
      " [0. 0. 0. 1.]]\n"
     ]
    }
   ],
   "source": [
    "f = np.asarray(array)\n",
    "print(f)"
   ]
  },
  {
   "cell_type": "markdown",
   "metadata": {},
   "source": [
    "#### Tuples to Array"
   ]
  },
  {
   "cell_type": "code",
   "execution_count": 40,
   "metadata": {},
   "outputs": [
    {
     "name": "stdout",
     "output_type": "stream",
     "text": [
      "[[1 2]\n",
      " [4 5]]\n"
     ]
    }
   ],
   "source": [
    "a = ((1,2), (4,5))\n",
    "b = np.asarray(a)\n",
    "print(b)"
   ]
  },
  {
   "cell_type": "markdown",
   "metadata": {},
   "source": [
    "#### Array from iterable"
   ]
  },
  {
   "cell_type": "code",
   "execution_count": 41,
   "metadata": {},
   "outputs": [
    {
     "name": "stdout",
     "output_type": "stream",
     "text": [
      "[1 2 3 4]\n",
      "[1 2 3 4]\n",
      "[1 2 3 4]\n",
      "[b's' b't' b'r' b'i' b'n' b'g']\n"
     ]
    }
   ],
   "source": [
    "a = np.fromiter([1,2,3,4], dtype='int16')\n",
    "b = np.fromiter((1,2,3,4), dtype='int16')\n",
    "c = np.fromiter(range(1,5), dtype='int16')\n",
    "d = np.fromiter('string', dtype='S50')\n",
    "\n",
    "print(a)\n",
    "print(b)\n",
    "print(c)\n",
    "print(d)"
   ]
  },
  {
   "cell_type": "markdown",
   "metadata": {},
   "source": [
    "## New Arrays"
   ]
  },
  {
   "cell_type": "markdown",
   "metadata": {},
   "source": [
    "#### Array from Range"
   ]
  },
  {
   "cell_type": "code",
   "execution_count": 43,
   "metadata": {},
   "outputs": [
    {
     "name": "stdout",
     "output_type": "stream",
     "text": [
      "[ 1  2  3  4  5  6  7  8  9 10 11]\n"
     ]
    }
   ],
   "source": [
    "z = np.arange(1,12, dtype='int32')\n",
    "print(z)"
   ]
  },
  {
   "cell_type": "code",
   "execution_count": 45,
   "metadata": {},
   "outputs": [
    {
     "name": "stdout",
     "output_type": "stream",
     "text": [
      "[ 1  3  5  7  9 11]\n"
     ]
    }
   ],
   "source": [
    "y = np.arange(1,12,2, dtype='int32')\n",
    "print(y)"
   ]
  },
  {
   "cell_type": "markdown",
   "metadata": {},
   "source": [
    "#### Random Array"
   ]
  },
  {
   "cell_type": "code",
   "execution_count": 212,
   "metadata": {
    "scrolled": true
   },
   "outputs": [
    {
     "name": "stdout",
     "output_type": "stream",
     "text": [
      "[[0.61482471 0.65275607 0.38681643 0.41035418]\n",
      " [0.81015755 0.60036927 0.89834034 0.49003223]\n",
      " [0.82831813 0.85888947 0.78844514 0.88765544]]\n"
     ]
    }
   ],
   "source": [
    "a = np.random.rand(3,4)\n",
    "print(a)"
   ]
  },
  {
   "cell_type": "code",
   "execution_count": 213,
   "metadata": {
    "scrolled": true
   },
   "outputs": [
    {
     "name": "stdout",
     "output_type": "stream",
     "text": [
      "[[0.69886079 0.45439031 0.30591516 0.8200844  0.13966466 0.4012965\n",
      "  0.23121231]\n",
      " [0.59045776 0.88626806 0.32774159 0.80460965 0.79745284 0.66569365\n",
      "  0.2441125 ]]\n"
     ]
    }
   ],
   "source": [
    "a = np.array([[1,2,3,4,5,6,7],[8,7,6,5,4,3,2]])\n",
    "b = np.random.random_sample(a.shape)\n",
    "print(b)"
   ]
  },
  {
   "cell_type": "code",
   "execution_count": 214,
   "metadata": {
    "scrolled": true
   },
   "outputs": [
    {
     "name": "stdout",
     "output_type": "stream",
     "text": [
      "[[38 37 36]\n",
      " [ 7 27 15]\n",
      " [34 30 22]]\n"
     ]
    }
   ],
   "source": [
    "c = np.random.randint(5, 40, size=(3,3))\n",
    "print(c)"
   ]
  },
  {
   "cell_type": "markdown",
   "metadata": {},
   "source": [
    "#### Identity Array"
   ]
  },
  {
   "cell_type": "code",
   "execution_count": 215,
   "metadata": {},
   "outputs": [
    {
     "name": "stdout",
     "output_type": "stream",
     "text": [
      "[[1 0 0 0 0 0 0]\n",
      " [0 1 0 0 0 0 0]\n",
      " [0 0 1 0 0 0 0]\n",
      " [0 0 0 1 0 0 0]\n",
      " [0 0 0 0 1 0 0]\n",
      " [0 0 0 0 0 1 0]\n",
      " [0 0 0 0 0 0 1]]\n"
     ]
    }
   ],
   "source": [
    "a = np.identity(7, dtype=\"int32\")\n",
    "print(a)"
   ]
  },
  {
   "cell_type": "code",
   "execution_count": 216,
   "metadata": {},
   "outputs": [
    {
     "name": "stdout",
     "output_type": "stream",
     "text": [
      "[[1 0 0 0 0 0 0 0]\n",
      " [0 1 0 0 0 0 0 0]\n",
      " [0 0 1 0 0 0 0 0]\n",
      " [0 0 0 1 0 0 0 0]\n",
      " [0 0 0 0 1 0 0 0]\n",
      " [0 0 0 0 0 1 0 0]\n",
      " [0 0 0 0 0 0 1 0]\n",
      " [0 0 0 0 0 0 0 1]]\n"
     ]
    }
   ],
   "source": [
    "b = np.eye(8, dtype='int32')\n",
    "print(b)"
   ]
  },
  {
   "cell_type": "markdown",
   "metadata": {},
   "source": [
    "#### Array in Range without Stepsize but total elements you want in between"
   ]
  },
  {
   "cell_type": "code",
   "execution_count": 47,
   "metadata": {},
   "outputs": [
    {
     "name": "stdout",
     "output_type": "stream",
     "text": [
      "[ 1.          1.19191919  1.38383838  1.57575758  1.76767677  1.95959596\n",
      "  2.15151515  2.34343434  2.53535354  2.72727273  2.91919192  3.11111111\n",
      "  3.3030303   3.49494949  3.68686869  3.87878788  4.07070707  4.26262626\n",
      "  4.45454545  4.64646465  4.83838384  5.03030303  5.22222222  5.41414141\n",
      "  5.60606061  5.7979798   5.98989899  6.18181818  6.37373737  6.56565657\n",
      "  6.75757576  6.94949495  7.14141414  7.33333333  7.52525253  7.71717172\n",
      "  7.90909091  8.1010101   8.29292929  8.48484848  8.67676768  8.86868687\n",
      "  9.06060606  9.25252525  9.44444444  9.63636364  9.82828283 10.02020202\n",
      " 10.21212121 10.4040404  10.5959596  10.78787879 10.97979798 11.17171717\n",
      " 11.36363636 11.55555556 11.74747475 11.93939394 12.13131313 12.32323232\n",
      " 12.51515152 12.70707071 12.8989899  13.09090909 13.28282828 13.47474747\n",
      " 13.66666667 13.85858586 14.05050505 14.24242424 14.43434343 14.62626263\n",
      " 14.81818182 15.01010101 15.2020202  15.39393939 15.58585859 15.77777778\n",
      " 15.96969697 16.16161616 16.35353535 16.54545455 16.73737374 16.92929293\n",
      " 17.12121212 17.31313131 17.50505051 17.6969697  17.88888889 18.08080808\n",
      " 18.27272727 18.46464646 18.65656566 18.84848485 19.04040404 19.23232323\n",
      " 19.42424242 19.61616162 19.80808081 20.        ]\n"
     ]
    }
   ],
   "source": [
    "x = np.linspace(1,20,100)\n",
    "print(x)"
   ]
  },
  {
   "cell_type": "markdown",
   "metadata": {},
   "source": [
    "#### Array of nos. evenly spaced on log scale"
   ]
  },
  {
   "cell_type": "code",
   "execution_count": 50,
   "metadata": {},
   "outputs": [
    {
     "name": "stdout",
     "output_type": "stream",
     "text": [
      "[  1.           1.04761575   1.09749877   1.149757     1.20450354\n",
      "   1.26185688   1.32194115   1.38488637   1.45082878   1.51991108\n",
      "   1.59228279   1.66810054   1.7475284    1.83073828   1.91791026\n",
      "   2.009233     2.10490414   2.20513074   2.3101297    2.42012826\n",
      "   2.53536449   2.65608778   2.7825594    2.91505306   3.05385551\n",
      "   3.19926714   3.35160265   3.51119173   3.67837977   3.85352859\n",
      "   4.03701726   4.22924287   4.43062146   4.64158883   4.86260158\n",
      "   5.09413801   5.33669923   5.59081018   5.85702082   6.13590727\n",
      "   6.42807312   6.73415066   7.05480231   7.39072203   7.74263683\n",
      "   8.11130831   8.49753436   8.90215085   9.32603347   9.77009957\n",
      "  10.23531022  10.72267222  11.23324033  11.76811952  12.32846739\n",
      "  12.91549665  13.53047775  14.17474163  14.84968262  15.55676144\n",
      "  16.29750835  17.07352647  17.88649529  18.73817423  19.6304065\n",
      "  20.56512308  21.5443469   22.5701972   23.64489413  24.77076356\n",
      "  25.95024211  27.18588243  28.48035868  29.8364724   31.2571585\n",
      "  32.74549163  34.30469286  35.93813664  37.64935807  39.44206059\n",
      "  41.320124    43.28761281  45.34878508  47.50810162  49.77023564\n",
      "  52.14008288  54.62277218  57.22367659  59.94842503  62.80291442\n",
      "  65.79332247  68.92612104  72.20809018  75.64633276  79.24828984\n",
      "  83.02175681  86.97490026  91.11627561  95.45484567 100.        ]\n"
     ]
    }
   ],
   "source": [
    "w = np.logspace(0, 2, 100)\n",
    "print(w)"
   ]
  },
  {
   "cell_type": "markdown",
   "metadata": {},
   "source": [
    "## Indexing"
   ]
  },
  {
   "cell_type": "code",
   "execution_count": 55,
   "metadata": {},
   "outputs": [
    {
     "name": "stdout",
     "output_type": "stream",
     "text": [
      "[[1 2 3]\n",
      " [3 4 5]\n",
      " [3 7 8]]\n"
     ]
    }
   ],
   "source": [
    "a = np.array([[1,2,3],[3,4,5], [3,7,8]])\n",
    "print(a)"
   ]
  },
  {
   "cell_type": "code",
   "execution_count": 56,
   "metadata": {},
   "outputs": [
    {
     "name": "stdout",
     "output_type": "stream",
     "text": [
      "7\n"
     ]
    }
   ],
   "source": [
    "print(a[2][1])"
   ]
  },
  {
   "cell_type": "code",
   "execution_count": 57,
   "metadata": {},
   "outputs": [
    {
     "name": "stdout",
     "output_type": "stream",
     "text": [
      "[[1 2]\n",
      " [3 4]]\n"
     ]
    }
   ],
   "source": [
    "print(a[:2, :2])"
   ]
  },
  {
   "cell_type": "code",
   "execution_count": 60,
   "metadata": {},
   "outputs": [
    {
     "name": "stdout",
     "output_type": "stream",
     "text": [
      "[3 7 8]\n"
     ]
    }
   ],
   "source": [
    "print(a[2,:])"
   ]
  },
  {
   "cell_type": "markdown",
   "metadata": {},
   "source": [
    "#### Integer Array Indexing"
   ]
  },
  {
   "cell_type": "code",
   "execution_count": 69,
   "metadata": {},
   "outputs": [
    {
     "name": "stdout",
     "output_type": "stream",
     "text": [
      "[[1 2]\n",
      " [3 4]\n",
      " [5 6]]\n",
      "----------------------------------------\n",
      "[1 4 5]\n",
      "----------------------------------------\n",
      "[1 4 5]\n",
      "----------------------------------------\n",
      "[2 2]\n"
     ]
    }
   ],
   "source": [
    "#New Arrays from other Arrays\n",
    "a = np.array([[1,2], [3,4], [5,6]])\n",
    "print(a)\n",
    "\n",
    "print(\"--\"*20)\n",
    "\n",
    "b = a[[0,1,2],[0,1,0]]\n",
    "print(b)\n",
    "\n",
    "print(\"--\"*20)\n",
    "\n",
    "c = np.array([a[0,0], a[1,1], a[2,0]])\n",
    "print(c)\n",
    "\n",
    "print(\"--\"*20)\n",
    "\n",
    "d = a[[0,0],[1,1]]\n",
    "print(d)"
   ]
  },
  {
   "cell_type": "markdown",
   "metadata": {},
   "source": [
    "#### Boolean Indexing"
   ]
  },
  {
   "cell_type": "code",
   "execution_count": 72,
   "metadata": {},
   "outputs": [
    {
     "name": "stdout",
     "output_type": "stream",
     "text": [
      "[[4 7 1]\n",
      " [2 5 7]\n",
      " [7 1 1]]\n",
      "----------------------------------------\n",
      "[[ True  True False]\n",
      " [False  True  True]\n",
      " [ True False False]]\n"
     ]
    }
   ],
   "source": [
    "a = np.array([[4,7,1], [2,5,7], [7,1,1]])\n",
    "print(a)\n",
    "\n",
    "print(\"--\"*20)\n",
    "\n",
    "mask = a > 3\n",
    "print(mask)"
   ]
  },
  {
   "cell_type": "code",
   "execution_count": 74,
   "metadata": {},
   "outputs": [
    {
     "name": "stdout",
     "output_type": "stream",
     "text": [
      "[4 7 5 7 7]\n"
     ]
    }
   ],
   "source": [
    "print(a[mask])"
   ]
  },
  {
   "cell_type": "code",
   "execution_count": 77,
   "metadata": {},
   "outputs": [
    {
     "name": "stdout",
     "output_type": "stream",
     "text": [
      "[3. +0.j 4.5+0.j 0. +0.j]\n",
      "[3.+5.j]\n"
     ]
    }
   ],
   "source": [
    "# Code starts here\n",
    "import numpy as np\n",
    "# initialize array\n",
    "array = np.array([3, 4.5, 3+5j, 0])\n",
    "\n",
    "# boolean filter\n",
    "real = np.isreal(array)\n",
    "real_array = array[real]\n",
    "print(real_array)\n",
    "# boolean filter\n",
    "imag = np.iscomplex(array)\n",
    "imag_array = array[imag]\n",
    "print(imag_array)\n",
    "\n",
    "# Code ends here"
   ]
  },
  {
   "cell_type": "markdown",
   "metadata": {},
   "source": [
    "## Vectoriztion"
   ]
  },
  {
   "cell_type": "code",
   "execution_count": 195,
   "metadata": {},
   "outputs": [
    {
     "name": "stdout",
     "output_type": "stream",
     "text": [
      "[3 4 5 6]\n"
     ]
    }
   ],
   "source": [
    "a = np.array([1,2,3,4,5,6])\n",
    "print(a[a>2])"
   ]
  },
  {
   "cell_type": "markdown",
   "metadata": {},
   "source": [
    "#### Addition"
   ]
  },
  {
   "cell_type": "code",
   "execution_count": 82,
   "metadata": {},
   "outputs": [
    {
     "name": "stdout",
     "output_type": "stream",
     "text": [
      "[[10 10 10]\n",
      " [10 10 10]\n",
      " [10 10 10]]\n"
     ]
    }
   ],
   "source": [
    "a = np.array([[1,2,3], [4,5,6], [7,8,9]])\n",
    "b = np.array([[9,8,7], [6,5,4], [3,2,1]])\n",
    "print(a+b)"
   ]
  },
  {
   "cell_type": "code",
   "execution_count": 83,
   "metadata": {},
   "outputs": [
    {
     "name": "stdout",
     "output_type": "stream",
     "text": [
      "[[10 10 10]\n",
      " [10 10 10]\n",
      " [10 10 10]]\n"
     ]
    }
   ],
   "source": [
    "print(np.add(a,b))"
   ]
  },
  {
   "cell_type": "markdown",
   "metadata": {},
   "source": [
    "#### Subtraction"
   ]
  },
  {
   "cell_type": "code",
   "execution_count": 84,
   "metadata": {},
   "outputs": [
    {
     "name": "stdout",
     "output_type": "stream",
     "text": [
      "[[-8 -6 -4]\n",
      " [-2  0  2]\n",
      " [ 4  6  8]]\n"
     ]
    }
   ],
   "source": [
    "a = np.array([[1,2,3], [4,5,6], [7,8,9]])\n",
    "b = np.array([[9,8,7], [6,5,4], [3,2,1]])\n",
    "print(a-b)"
   ]
  },
  {
   "cell_type": "code",
   "execution_count": 86,
   "metadata": {},
   "outputs": [
    {
     "name": "stdout",
     "output_type": "stream",
     "text": [
      "[[-8 -6 -4]\n",
      " [-2  0  2]\n",
      " [ 4  6  8]]\n"
     ]
    }
   ],
   "source": [
    "print(np.subtract(a,b))"
   ]
  },
  {
   "cell_type": "markdown",
   "metadata": {},
   "source": [
    "#### Multiply"
   ]
  },
  {
   "cell_type": "code",
   "execution_count": 88,
   "metadata": {},
   "outputs": [
    {
     "name": "stdout",
     "output_type": "stream",
     "text": [
      "[[ 9 16 21]\n",
      " [24 25 24]\n",
      " [21 16  9]]\n"
     ]
    }
   ],
   "source": [
    "a = np.array([[1,2,3], [4,5,6], [7,8,9]])\n",
    "b = np.array([[9,8,7], [6,5,4], [3,2,1]])\n",
    "print(a*b)"
   ]
  },
  {
   "cell_type": "code",
   "execution_count": 89,
   "metadata": {},
   "outputs": [
    {
     "name": "stdout",
     "output_type": "stream",
     "text": [
      "[[ 9 16 21]\n",
      " [24 25 24]\n",
      " [21 16  9]]\n"
     ]
    }
   ],
   "source": [
    "print(np.multiply(a,b))"
   ]
  },
  {
   "cell_type": "markdown",
   "metadata": {},
   "source": [
    "#### Divide"
   ]
  },
  {
   "cell_type": "code",
   "execution_count": 90,
   "metadata": {},
   "outputs": [
    {
     "name": "stdout",
     "output_type": "stream",
     "text": [
      "[[0.11111111 0.25       0.42857143]\n",
      " [0.66666667 1.         1.5       ]\n",
      " [2.33333333 4.         9.        ]]\n"
     ]
    }
   ],
   "source": [
    "a = np.array([[1,2,3], [4,5,6], [7,8,9]])\n",
    "b = np.array([[9,8,7], [6,5,4], [3,2,1]])\n",
    "print(a/b)"
   ]
  },
  {
   "cell_type": "code",
   "execution_count": 91,
   "metadata": {},
   "outputs": [
    {
     "name": "stdout",
     "output_type": "stream",
     "text": [
      "[[0.11111111 0.25       0.42857143]\n",
      " [0.66666667 1.         1.5       ]\n",
      " [2.33333333 4.         9.        ]]\n"
     ]
    }
   ],
   "source": [
    "print(np.divide(a,b))"
   ]
  },
  {
   "cell_type": "markdown",
   "metadata": {},
   "source": [
    "#### Squareroot"
   ]
  },
  {
   "cell_type": "code",
   "execution_count": 93,
   "metadata": {},
   "outputs": [
    {
     "name": "stdout",
     "output_type": "stream",
     "text": [
      "[[1.         1.41421356 1.73205081]\n",
      " [2.         2.23606798 2.44948974]\n",
      " [2.64575131 2.82842712 3.        ]]\n"
     ]
    }
   ],
   "source": [
    "a = np.array([[1,2,3], [4,5,6], [7,8,9]])\n",
    "print(a**(1/2))"
   ]
  },
  {
   "cell_type": "code",
   "execution_count": 94,
   "metadata": {},
   "outputs": [
    {
     "name": "stdout",
     "output_type": "stream",
     "text": [
      "[[1.         1.41421356 1.73205081]\n",
      " [2.         2.23606798 2.44948974]\n",
      " [2.64575131 2.82842712 3.        ]]\n"
     ]
    }
   ],
   "source": [
    "print(np.sqrt(a))"
   ]
  },
  {
   "cell_type": "markdown",
   "metadata": {},
   "source": [
    "#### Log transform"
   ]
  },
  {
   "cell_type": "code",
   "execution_count": 95,
   "metadata": {},
   "outputs": [
    {
     "name": "stdout",
     "output_type": "stream",
     "text": [
      "[[0.         0.69314718 1.09861229]\n",
      " [1.38629436 1.60943791 1.79175947]\n",
      " [1.94591015 2.07944154 2.19722458]]\n"
     ]
    }
   ],
   "source": [
    "a = np.array([[1,2,3], [4,5,6], [7,8,9]])\n",
    "print(np.log(a))"
   ]
  },
  {
   "cell_type": "markdown",
   "metadata": {},
   "source": [
    "#### Sine"
   ]
  },
  {
   "cell_type": "code",
   "execution_count": 217,
   "metadata": {
    "scrolled": true
   },
   "outputs": [
    {
     "name": "stdout",
     "output_type": "stream",
     "text": [
      "[[ 0.84147098  0.90929743  0.14112001]\n",
      " [-0.7568025  -0.95892427 -0.2794155 ]\n",
      " [ 0.6569866   0.98935825  0.41211849]]\n"
     ]
    }
   ],
   "source": [
    "a = np.sin(np.array([[1,2,3], [4,5,6], [7,8,9]]))\n",
    "print(a)"
   ]
  },
  {
   "cell_type": "markdown",
   "metadata": {},
   "source": [
    "#### Cosine"
   ]
  },
  {
   "cell_type": "code",
   "execution_count": 219,
   "metadata": {},
   "outputs": [
    {
     "name": "stdout",
     "output_type": "stream",
     "text": [
      "[[ 0.54030231 -0.41614684 -0.9899925 ]\n",
      " [-0.65364362  0.28366219  0.96017029]\n",
      " [ 0.75390225 -0.14550003 -0.91113026]]\n"
     ]
    }
   ],
   "source": [
    "a = np.cos(np.array([[1,2,3], [4,5,6], [7,8,9]]))\n",
    "print(a)"
   ]
  },
  {
   "cell_type": "markdown",
   "metadata": {},
   "source": [
    "#### Determinant"
   ]
  },
  {
   "cell_type": "code",
   "execution_count": 224,
   "metadata": {},
   "outputs": [
    {
     "name": "stdout",
     "output_type": "stream",
     "text": [
      "-21.0\n"
     ]
    }
   ],
   "source": [
    "a = np.linalg.det([[1,2,4], [4,5,3], [7,8,9]])\n",
    "print(a)"
   ]
  },
  {
   "cell_type": "markdown",
   "metadata": {},
   "source": [
    "#### Aggregrate"
   ]
  },
  {
   "cell_type": "code",
   "execution_count": 96,
   "metadata": {},
   "outputs": [],
   "source": [
    "a = np.array([[1,2,3], [4,5,6], [7,8,9]])"
   ]
  },
  {
   "cell_type": "code",
   "execution_count": 98,
   "metadata": {},
   "outputs": [
    {
     "name": "stdout",
     "output_type": "stream",
     "text": [
      "45\n"
     ]
    }
   ],
   "source": [
    "print(a.sum())"
   ]
  },
  {
   "cell_type": "code",
   "execution_count": 99,
   "metadata": {},
   "outputs": [
    {
     "name": "stdout",
     "output_type": "stream",
     "text": [
      "1\n"
     ]
    }
   ],
   "source": [
    "print(a.min())"
   ]
  },
  {
   "cell_type": "code",
   "execution_count": 100,
   "metadata": {},
   "outputs": [
    {
     "name": "stdout",
     "output_type": "stream",
     "text": [
      "9\n"
     ]
    }
   ],
   "source": [
    "print(a.max())"
   ]
  },
  {
   "cell_type": "code",
   "execution_count": 101,
   "metadata": {},
   "outputs": [
    {
     "name": "stdout",
     "output_type": "stream",
     "text": [
      "[7 8 9]\n"
     ]
    }
   ],
   "source": [
    "print(a.max(axis = 0))"
   ]
  },
  {
   "cell_type": "code",
   "execution_count": 102,
   "metadata": {},
   "outputs": [
    {
     "name": "stdout",
     "output_type": "stream",
     "text": [
      "[3 6 9]\n"
     ]
    }
   ],
   "source": [
    "print(a.max(axis = 1))"
   ]
  },
  {
   "cell_type": "code",
   "execution_count": 104,
   "metadata": {},
   "outputs": [
    {
     "name": "stdout",
     "output_type": "stream",
     "text": [
      "[[ 1  3  6]\n",
      " [ 4  9 15]\n",
      " [ 7 15 24]]\n"
     ]
    }
   ],
   "source": [
    "print(a.cumsum(axis = 1))"
   ]
  },
  {
   "cell_type": "code",
   "execution_count": 105,
   "metadata": {},
   "outputs": [
    {
     "name": "stdout",
     "output_type": "stream",
     "text": [
      "[[ 1  2  3]\n",
      " [ 5  7  9]\n",
      " [12 15 18]]\n"
     ]
    }
   ],
   "source": [
    "print(a.cumsum(axis = 0))"
   ]
  },
  {
   "cell_type": "code",
   "execution_count": 106,
   "metadata": {},
   "outputs": [
    {
     "name": "stdout",
     "output_type": "stream",
     "text": [
      "5.0\n"
     ]
    }
   ],
   "source": [
    "print(a.mean())"
   ]
  },
  {
   "cell_type": "code",
   "execution_count": 107,
   "metadata": {},
   "outputs": [
    {
     "name": "stdout",
     "output_type": "stream",
     "text": [
      "5.0\n"
     ]
    }
   ],
   "source": [
    "print(np.mean(a)) # mean"
   ]
  },
  {
   "cell_type": "code",
   "execution_count": 108,
   "metadata": {},
   "outputs": [
    {
     "name": "stdout",
     "output_type": "stream",
     "text": [
      "5.0\n"
     ]
    }
   ],
   "source": [
    "print(np.median(a)) #median"
   ]
  },
  {
   "cell_type": "code",
   "execution_count": 112,
   "metadata": {},
   "outputs": [
    {
     "name": "stdout",
     "output_type": "stream",
     "text": [
      "[[1. 1. 1.]\n",
      " [1. 1. 1.]\n",
      " [1. 1. 1.]]\n"
     ]
    }
   ],
   "source": [
    "print(np.corrcoef(a)) #Correlation Coefficient"
   ]
  },
  {
   "cell_type": "code",
   "execution_count": 114,
   "metadata": {},
   "outputs": [
    {
     "name": "stdout",
     "output_type": "stream",
     "text": [
      "2.581988897471611\n"
     ]
    }
   ],
   "source": [
    "print(np.std(a)) #Standard Deviation"
   ]
  },
  {
   "cell_type": "markdown",
   "metadata": {},
   "source": [
    "#### Vertical Stack"
   ]
  },
  {
   "cell_type": "code",
   "execution_count": 225,
   "metadata": {},
   "outputs": [
    {
     "data": {
      "text/plain": [
       "array([[1, 2, 3, 4],\n",
       "       [6, 7, 8, 9],\n",
       "       [1, 2, 3, 4],\n",
       "       [6, 7, 8, 9]])"
      ]
     },
     "execution_count": 225,
     "metadata": {},
     "output_type": "execute_result"
    }
   ],
   "source": [
    "v1 = np.array([1,2,3,4])\n",
    "v2 = np.array([6,7,8,9])\n",
    "\n",
    "a = np.vstack([v1,v2,v1,v2])\n",
    "print(a)"
   ]
  },
  {
   "cell_type": "markdown",
   "metadata": {},
   "source": [
    "#### Horizontal Stack"
   ]
  },
  {
   "cell_type": "code",
   "execution_count": 226,
   "metadata": {},
   "outputs": [
    {
     "name": "stdout",
     "output_type": "stream",
     "text": [
      "[1 2 3 4 6 7 8 9]\n"
     ]
    }
   ],
   "source": [
    "v1 = np.array([1,2,3,4])\n",
    "v2 = np.array([6,7,8,9])\n",
    "\n",
    "a = np.hstack([v1,v2])\n",
    "print(a)"
   ]
  },
  {
   "cell_type": "markdown",
   "metadata": {},
   "source": [
    "## Array Comparisions"
   ]
  },
  {
   "cell_type": "code",
   "execution_count": 115,
   "metadata": {},
   "outputs": [
    {
     "name": "stdout",
     "output_type": "stream",
     "text": [
      "True\n"
     ]
    }
   ],
   "source": [
    "a = np.array([1,2,3,4,5])\n",
    "b = np.array([1,2,3,4,5])\n",
    "c = np.array_equal(a,b)\n",
    "print(c)"
   ]
  },
  {
   "cell_type": "code",
   "execution_count": 116,
   "metadata": {},
   "outputs": [
    {
     "name": "stdout",
     "output_type": "stream",
     "text": [
      "False\n"
     ]
    }
   ],
   "source": [
    "a = np.array([1,2,3,4,5])\n",
    "b = np.array([1,2,3,4,5,6])\n",
    "c = np.array_equal(a,b)\n",
    "print(c)"
   ]
  },
  {
   "cell_type": "markdown",
   "metadata": {},
   "source": [
    "### Axes Notations"
   ]
  },
  {
   "cell_type": "code",
   "execution_count": 117,
   "metadata": {},
   "outputs": [
    {
     "name": "stdout",
     "output_type": "stream",
     "text": [
      "[[1 2 3]\n",
      " [4 5 6]]\n"
     ]
    }
   ],
   "source": [
    "a = np.array([[1,2,3] ,[4,5,6]])\n",
    "print(a)"
   ]
  },
  {
   "cell_type": "code",
   "execution_count": 118,
   "metadata": {},
   "outputs": [
    {
     "name": "stdout",
     "output_type": "stream",
     "text": [
      "[5 7 9]\n"
     ]
    }
   ],
   "source": [
    "print(a.sum(axis=0))"
   ]
  },
  {
   "cell_type": "code",
   "execution_count": 119,
   "metadata": {},
   "outputs": [
    {
     "name": "stdout",
     "output_type": "stream",
     "text": [
      "[ 6 15]\n"
     ]
    }
   ],
   "source": [
    "print(a.sum(axis=1))"
   ]
  },
  {
   "cell_type": "code",
   "execution_count": 120,
   "metadata": {},
   "outputs": [
    {
     "name": "stdout",
     "output_type": "stream",
     "text": [
      "21\n"
     ]
    }
   ],
   "source": [
    "print(a.sum())"
   ]
  },
  {
   "cell_type": "code",
   "execution_count": 138,
   "metadata": {},
   "outputs": [
    {
     "name": "stdout",
     "output_type": "stream",
     "text": [
      "[[40 35 20]\n",
      " [21 48 70]]\n",
      "[40 35 20 21 48 70]\n",
      "20\n",
      "2\n",
      "70\n",
      "50\n"
     ]
    }
   ],
   "source": [
    "import numpy as np\n",
    "# initialize array for prices\n",
    "prices = np.array([[40,35,20], [21,48,70]])\n",
    "print(prices)\n",
    "\n",
    "# Code starts here\n",
    "\n",
    "# flatten the array\n",
    "prices = prices.flatten()\n",
    "print(prices)\n",
    "\n",
    "# minimum price\n",
    "buying_price = np.min(prices)\n",
    "print(buying_price)\n",
    "\n",
    "# index of buying price\n",
    "index = list(prices).index(buying_price)\n",
    "print(index)\n",
    "# create subset\n",
    "selling_price = np.max(prices[index:])\n",
    "\n",
    "\n",
    "# selling price\n",
    "print(selling_price)\n",
    "\n",
    "# profit\n",
    "profit = selling_price - buying_price\n",
    "# display\n",
    "print(profit)\n",
    "\n",
    "# Code ends here"
   ]
  },
  {
   "cell_type": "markdown",
   "metadata": {},
   "source": [
    "## Broadcasting"
   ]
  },
  {
   "cell_type": "code",
   "execution_count": 140,
   "metadata": {},
   "outputs": [
    {
     "name": "stdout",
     "output_type": "stream",
     "text": [
      "[5 6 7]\n"
     ]
    }
   ],
   "source": [
    "a = np.array([1, 2, 3]) + 4\n",
    "print(a)"
   ]
  },
  {
   "attachments": {
    "broadcasting.png": {
     "image/png": "[encoded data removed]"
    }
   },
   "cell_type": "markdown",
   "metadata": {},
   "source": [
    "![broadcasting.png](attachment:broadcasting.png)"
   ]
  },
  {
   "cell_type": "code",
   "execution_count": 145,
   "metadata": {},
   "outputs": [
    {
     "name": "stdout",
     "output_type": "stream",
     "text": [
      "[[0 1 2]\n",
      " [1 2 3]\n",
      " [2 3 4]]\n"
     ]
    }
   ],
   "source": [
    "y = np.arange(3).reshape((3,1)) + np.arange(3)\n",
    "print(y)"
   ]
  },
  {
   "cell_type": "code",
   "execution_count": 156,
   "metadata": {},
   "outputs": [
    {
     "name": "stdout",
     "output_type": "stream",
     "text": [
      "[[0.02856942 0.28190767 0.73703555 0.         0.19423813]\n",
      " [0.03072817 0.29577917 0.67690496 0.3019365  0.59225784]\n",
      " [0.05053881 0.89136471 0.1176393  0.16494209 0.49987233]\n",
      " [0.88746023 0.77705951 1.         0.77743756 0.38217481]\n",
      " [0.40796162 0.72901978 0.26247412 0.87734633 0.93959001]]\n"
     ]
    }
   ],
   "source": [
    "import numpy as np\n",
    "np.random.seed(21)\n",
    "\n",
    "# Code starts here\n",
    "\n",
    "# create random 5x5 array\n",
    "z = np.random.random((5,5))\n",
    "\n",
    "# minimum and maximum values\n",
    "zmin = np.min(z)\n",
    "zmax = np.max(z)\n",
    "\n",
    "\n",
    "# normalize\n",
    "z_norm = (z - zmin) / (zmax - zmin)\n",
    "print(z_norm)\n",
    "# display\n"
   ]
  },
  {
   "cell_type": "markdown",
   "metadata": {},
   "source": [
    "## Read Files"
   ]
  },
  {
   "cell_type": "code",
   "execution_count": 229,
   "metadata": {
    "scrolled": true
   },
   "outputs": [
    {
     "name": "stdout",
     "output_type": "stream",
     "text": [
      "[[nan nan nan ... nan nan nan]\n",
      " [39. 13.  4. ...  0. 40.  0.]\n",
      " [50. 13.  4. ...  0. 13.  0.]\n",
      " ...\n",
      " [48. 13.  4. ...  0. 58.  1.]\n",
      " [40. 10.  4. ...  0. 40.  0.]\n",
      " [39. 13.  4. ...  0. 50.  1.]]\n"
     ]
    }
   ],
   "source": [
    "path = \"C:\\\\Users\\\\P. R. RAJAGOPAL\\\\Desktop\\\\Data Science\\\\Python for DS\\\\file.csv\"\n",
    "filedata = np.genfromtxt(path, delimiter = \",\")\n",
    "print(filedata)"
   ]
  },
  {
   "cell_type": "code",
   "execution_count": 230,
   "metadata": {
    "scrolled": true
   },
   "outputs": [
    {
     "name": "stdout",
     "output_type": "stream",
     "text": [
      "[[39. 13.  4. ...  0. 40.  0.]\n",
      " [50. 13.  4. ...  0. 13.  0.]\n",
      " [38.  9.  4. ...  0. 40.  0.]\n",
      " ...\n",
      " [48. 13.  4. ...  0. 58.  1.]\n",
      " [40. 10.  4. ...  0. 40.  0.]\n",
      " [39. 13.  4. ...  0. 50.  1.]]\n"
     ]
    }
   ],
   "source": [
    "path = \"C:\\\\Users\\\\P. R. RAJAGOPAL\\\\Desktop\\\\Data Science\\\\Python for DS\\\\file.csv\"\n",
    "filedata = np.genfromtxt(path, delimiter = \",\", skip_header=1)\n",
    "print(filedata)"
   ]
  },
  {
   "cell_type": "code",
   "execution_count": 233,
   "metadata": {
    "scrolled": true
   },
   "outputs": [
    {
     "name": "stdout",
     "output_type": "stream",
     "text": [
      "[ True False False False  True  True  True False]\n"
     ]
    }
   ],
   "source": [
    "z = np.any(filedata>50, axis=0) # Is there Any Value in a column > 50\n",
    "print(z)"
   ]
  },
  {
   "cell_type": "code",
   "execution_count": 234,
   "metadata": {},
   "outputs": [
    {
     "name": "stdout",
     "output_type": "stream",
     "text": [
      "[False False False False False False False False]\n"
     ]
    }
   ],
   "source": [
    "z = np.all(filedata>50, axis=0) # Are All Values in a column > 50\n",
    "print(z)"
   ]
  },
  {
   "cell_type": "markdown",
   "metadata": {},
   "source": [
    "## Speed of Numpy"
   ]
  },
  {
   "cell_type": "code",
   "execution_count": 159,
   "metadata": {},
   "outputs": [
    {
     "name": "stdout",
     "output_type": "stream",
     "text": [
      "0.008205652236938477\n",
      "0.0009381771087646484\n"
     ]
    }
   ],
   "source": [
    "np.random.seed(21)\n",
    "import time\n",
    "num = 10000\n",
    "\n",
    "#lists\n",
    "l1, l2 = [i for i in range(num)], [i+2 for i in range(num)]\n",
    "\n",
    "#numpy arrays\n",
    "a1, a2 = np.array(l1), np.array(l2)\n",
    "\n",
    "#start, sum stop, print\n",
    "start_list = time.time()\n",
    "sum_list = [i+j for i,j in zip(l1,l2)]\n",
    "stop_list = time.time()\n",
    "print(stop_list - start_list)\n",
    "\n",
    "##start, sum stop, print\n",
    "start_array = time.time()\n",
    "sum_array = a1 + a2\n",
    "stop_array = time.time()\n",
    "print(stop_array - start_array)\n"
   ]
  },
  {
   "cell_type": "markdown",
   "metadata": {},
   "source": [
    "#### imp: .reshape() returns a new NumPy array with modified shape whereas .resize() resizes the array itself"
   ]
  },
  {
   "cell_type": "markdown",
   "metadata": {},
   "source": [
    "## Examples"
   ]
  },
  {
   "cell_type": "markdown",
   "metadata": {},
   "source": [
    "### Quadratic Eq"
   ]
  },
  {
   "cell_type": "code",
   "execution_count": 161,
   "metadata": {},
   "outputs": [
    {
     "name": "stdout",
     "output_type": "stream",
     "text": [
      "[2. 2.]\n"
     ]
    }
   ],
   "source": [
    "# import packages\n",
    "import numpy as np\n",
    "\n",
    "# Code starts here\n",
    "## x**2 − 4x + 4 = 0\n",
    "# co-efficients of x\n",
    "coeff = np.array([1,-4,4])\n",
    "\n",
    "# roots of equation\n",
    "roots = np.roots(coeff)\n",
    "\n",
    "# display roots\n",
    "print(roots)\n",
    "\n",
    "# Code ends here"
   ]
  },
  {
   "cell_type": "markdown",
   "metadata": {},
   "source": [
    "#### Centigrade to Fahrenheit"
   ]
  },
  {
   "cell_type": "code",
   "execution_count": 179,
   "metadata": {},
   "outputs": [
    {
     "name": "stdout",
     "output_type": "stream",
     "text": [
      "[ 0.   10.   25.   32.   80.   99.99]\n",
      "[ 32.     50.     77.     89.6   176.    211.982]\n"
     ]
    }
   ],
   "source": [
    "# Code starts here\n",
    "import numpy as np\n",
    "# centigrade temperatures\n",
    "centigrade_temps = np.array([0, 10, 25, 32, 80, 99.99])\n",
    "print(centigrade_temps)\n",
    "# function for conversion\n",
    "def convert(celsius):\n",
    "    return (1.8)*(celsius) + 32\n",
    "\n",
    "# display fahrehheit temperatures\n",
    "fahrenheit_temps = convert(centigrade_temps)\n",
    "print(fahrenheit_temps)\n",
    "\n",
    "# Code ends here"
   ]
  },
  {
   "cell_type": "markdown",
   "metadata": {},
   "source": [
    "####  Solving System of Equations"
   ]
  },
  {
   "cell_type": "code",
   "execution_count": 187,
   "metadata": {},
   "outputs": [
    {
     "name": "stdout",
     "output_type": "stream",
     "text": [
      "[[ 2.5]\n",
      " [-3. ]\n",
      " [-2.5]]\n",
      "True\n",
      "[[-3.]\n",
      " [ 5.]\n",
      " [ 2.]]\n"
     ]
    }
   ],
   "source": [
    "# Code starts here\n",
    "import numpy as np\n",
    "# initialize matrix A and b\n",
    "A = np.array([[2,1,2], [3,0,1], [1,1,-1]])\n",
    "b = np.array([-3,5,2]).reshape(3,1)\n",
    "# Solve for x\n",
    "x = np.linalg.solve(A,b) ## For Solving Linear Algebra\n",
    "print(x)\n",
    "\n",
    "# Check solution\n",
    "check = np.allclose(np.dot(A,x), b) ## Checking\n",
    "print(check)\n",
    "\n",
    "# Code ends here"
   ]
  },
  {
   "cell_type": "markdown",
   "metadata": {},
   "source": [
    "#### Find a 3x3 Non Singular Matrix"
   ]
  },
  {
   "cell_type": "code",
   "execution_count": 191,
   "metadata": {},
   "outputs": [
    {
     "name": "stdout",
     "output_type": "stream",
     "text": [
      "[[1 0 1]\n",
      " [0 1 1]\n",
      " [1 0 2]]\n"
     ]
    }
   ],
   "source": [
    "import numpy as np\n",
    "# initialize array B and Identity matrix\n",
    "B = np.array([[2,0,-1], [0,2,-1], [-1,0,1]])\n",
    "I = np.eye(3, dtype='int32')\n",
    "# calculate result\n",
    "A = 3*I - B\n",
    "print(A)\n",
    "\n",
    "# Code ends here"
   ]
  },
  {
   "cell_type": "markdown",
   "metadata": {},
   "source": [
    "#### Make Sense of Census, Data Set in Files"
   ]
  },
  {
   "cell_type": "code",
   "execution_count": 207,
   "metadata": {},
   "outputs": [
    {
     "name": "stdout",
     "output_type": "stream",
     "text": [
      "The Data: \n",
      "\n",
      "[[39. 13.  4. ...  0. 40.  0.]\n",
      " [50. 13.  4. ...  0. 13.  0.]\n",
      " [38.  9.  4. ...  0. 40.  0.]\n",
      " ...\n",
      " [48. 13.  4. ...  0. 58.  1.]\n",
      " [40. 10.  4. ...  0. 40.  0.]\n",
      " [39. 13.  4. ...  0. 50.  1.]]\n",
      "------------------------------------------------------------\n",
      "Shape of Data is (1000, 8)\n",
      "------------------------------------------------------------\n",
      "Shape of Census after adding new record is (1001, 8)\n",
      "------------------------------------------------------------\n",
      "Maximum Age is 90.0\n",
      "------------------------------------------------------------\n",
      "Minimum Age is 17.0\n",
      "------------------------------------------------------------\n",
      "Mean of Ages is 38.06293706293706\n",
      "------------------------------------------------------------\n",
      "Stadard Deviation of Ages is 13.341478176165857\n",
      "------------------------------------------------------------\n",
      "Minority Race: 3\n",
      "------------------------------------------------------------\n",
      "Sum of Working Hours of Senior Citzens: 1917.0\n",
      "------------------------------------------------------------\n",
      "Average Working Hours of Senior Citizens: 31.43\n",
      "------------------------------------------------------------\n",
      "Average Pay if Education is above 10th 0.43\n",
      "------------------------------------------------------------\n",
      "Average Pay if Education is below 10th 0.14\n"
     ]
    }
   ],
   "source": [
    "# Importing header files\n",
    "import numpy as np\n",
    "import warnings\n",
    "\n",
    "warnings.filterwarnings('ignore')\n",
    "path = \"C:\\\\Users\\\\P. R. RAJAGOPAL\\\\Desktop\\\\Data Science\\\\Python for DS\\\\file.csv\"\n",
    "#New record\n",
    "new_record=[[50,  9,  4,  1,  0,  0, 40,  0]]\n",
    "\n",
    "#Reading file\n",
    "data = np.genfromtxt(path, delimiter=\",\", skip_header=1)\n",
    "print('The Data: \\n')\n",
    "print(data)\n",
    "#Code starts here\n",
    "census = np.concatenate((new_record, data))\n",
    "age = np.array([census[:,0]])\n",
    "max_age = age.max()\n",
    "min_age = age.min()\n",
    "age_mean = age.mean()\n",
    "age_std = np.std(age)\n",
    "\n",
    "print('---'*20)\n",
    "\n",
    "print(f'Shape of Data is {np.shape(data)}')\n",
    "\n",
    "print('---'*20)\n",
    "\n",
    "print(f'Shape of Census after adding new record is {np.shape(census)}')\n",
    "      \n",
    "print('---'*20)\n",
    "\n",
    "print(f'Maximum Age is {max_age}')\n",
    "\n",
    "print('---'*20)\n",
    "\n",
    "print(f'Minimum Age is {min_age}')\n",
    "\n",
    "print('---'*20)\n",
    "\n",
    "print(f'Mean of Ages is {age_mean}')\n",
    "\n",
    "print('---'*20)\n",
    "\n",
    "print(f'Stadard Deviation of Ages is {age_std}')\n",
    "\n",
    "print('---'*20)\n",
    "\n",
    "race_0 = []\n",
    "race_1 = []\n",
    "race_2 = []\n",
    "race_3 = []\n",
    "race_4 = []\n",
    "\n",
    "for i in np.nditer(np.array([census[:,2]])):\n",
    "    if (i==0):\n",
    "        race_0.append(i)\n",
    "    elif (i==1):\n",
    "        race_1.append(i)\n",
    "    elif (i==2):\n",
    "        race_2.append(i)\n",
    "    elif (i==3):\n",
    "        race_3.append(i)\n",
    "    else:\n",
    "        race_4.append(i)\n",
    "\n",
    "len_0 = len(race_0)\n",
    "len_1 = len(race_1)\n",
    "len_2 = len(race_2)\n",
    "len_3 = len(race_3)\n",
    "len_4 = len(race_4)\n",
    "\n",
    "if min(len_0,len_1,len_2,len_3,len_4) == len_0:\n",
    "    minority_race = 0\n",
    "elif min(len_0,len_1,len_2,len_3,len_4) == len_1:\n",
    "    minority_race = 1\n",
    "elif min(len_0,len_1,len_2,len_3,len_4) == len_2:\n",
    "    minority_race = 2\n",
    "elif min(len_0,len_1,len_2,len_3,len_4) == len_3:\n",
    "    minority_race = 3\n",
    "else:\n",
    "    minority_race = 4\n",
    "\n",
    "print(f'Minority Race: {minority_race}')\n",
    "\n",
    "print('---'*20)\n",
    "\n",
    "senior_citizens = []    \n",
    "for i in (census[:,0]):\n",
    "    if i>60:\n",
    "        senior_citizens.append(i)\n",
    "\n",
    "senior_citizens_len = len(senior_citizens)\n",
    "\n",
    "working_hours_sum = 0\n",
    "for (i, k) in zip((census[:,0]), (census[:,6])):\n",
    "    if i > 60:\n",
    "        working_hours_sum += k\n",
    "\n",
    "print(f'Sum of Working Hours of Senior Citzens: {working_hours_sum}')\n",
    "\n",
    "print('---'*20)\n",
    "\n",
    "avg_working_hours = np.around(np.divide(working_hours_sum, senior_citizens_len), 2)\n",
    "\n",
    "print(f'Average Working Hours of Senior Citizens: {avg_working_hours}')\n",
    "\n",
    "high=[]\n",
    "low=[]\n",
    "for (i, k) in zip((census[:,1]), (census[:,7])):\n",
    "    if i > 10:\n",
    "        high.append(k)\n",
    "    elif i<=10:\n",
    "        low.append(k)\n",
    "\n",
    "avg_pay_high = np.around(np.mean(high), 2)\n",
    "avg_pay_low = np.around(np.mean(low), 2)\n",
    "\n",
    "print('---'*20)\n",
    "\n",
    "print(f'Average Pay if Education is above 10th {avg_pay_high}')\n",
    "\n",
    "print('---'*20)\n",
    "\n",
    "print(f'Average Pay if Education is below 10th {avg_pay_low}')"
   ]
  },
  {
   "cell_type": "code",
   "execution_count": null,
   "metadata": {},
   "outputs": [],
   "source": []
  }
 ],
 "metadata": {
  "kernelspec": {
   "display_name": "Python 3",
   "language": "python",
   "name": "python3"
  },
  "language_info": {
   "codemirror_mode": {
    "name": "ipython",
    "version": 3
   },
   "file_extension": ".py",
   "mimetype": "text/x-python",
   "name": "python",
   "nbconvert_exporter": "python",
   "pygments_lexer": "ipython3",
   "version": "3.7.6"
  }
 },
 "nbformat": 4,
 "nbformat_minor": 4
}
